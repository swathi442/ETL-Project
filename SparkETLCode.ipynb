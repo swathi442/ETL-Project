{
 "cells": [
  {
   "cell_type": "code",
   "execution_count": 1,
   "metadata": {},
   "outputs": [],
   "source": [
    "#Importing configuration paths.\n",
    "import os\n",
    "import sys\n",
    "os.environ[\"PYSPARK_PYTHON\"] = \"/opt/cloudera/parcels/Anaconda/bin/python\"\n",
    "os.environ[\"JAVA_HOME\"] = \"/usr/java/jdk1.8.0_232/jre\"\n",
    "os.environ[\"SPARK_HOME\"] = \"/opt/cloudera/parcels/SPARK2-2.3.0.cloudera2-1.cdh5.13.3.p0.316101/lib/spark2/\"\n",
    "os.environ[\"PYLIB\"] = os.environ[\"SPARK_HOME\"] + \"/python/lib\"\n",
    "sys.path.insert(0, os.environ[\"PYLIB\"] +\"/py4j-0.10.6-src.zip\")\n",
    "sys.path.insert(0, os.environ[\"PYLIB\"] +\"/pyspark.zip\")"
   ]
  },
  {
   "cell_type": "code",
   "execution_count": 2,
   "metadata": {},
   "outputs": [
    {
     "data": {
      "text/html": [
       "\n",
       "            <div>\n",
       "                <p><b>SparkSession - hive</b></p>\n",
       "                \n",
       "        <div>\n",
       "            <p><b>SparkContext</b></p>\n",
       "\n",
       "            <p><a href=\"http://ip-10-0-0-17.ec2.internal:4040\">Spark UI</a></p>\n",
       "\n",
       "            <dl>\n",
       "              <dt>Version</dt>\n",
       "                <dd><code>v2.3.0.cloudera2</code></dd>\n",
       "              <dt>Master</dt>\n",
       "                <dd><code>local</code></dd>\n",
       "              <dt>AppName</dt>\n",
       "                <dd><code>demo</code></dd>\n",
       "            </dl>\n",
       "        </div>\n",
       "        \n",
       "            </div>\n",
       "        "
      ],
      "text/plain": [
       "<pyspark.sql.session.SparkSession at 0x7fd38c083190>"
      ]
     },
     "execution_count": 2,
     "metadata": {},
     "output_type": "execute_result"
    }
   ],
   "source": [
    "#Initialising SparkSession\n",
    "from pyspark.sql import SparkSession\n",
    "spark = SparkSession.builder.appName('demo').master(\"local\").getOrCreate()\n",
    "spark\n"
   ]
  },
  {
   "cell_type": "code",
   "execution_count": 3,
   "metadata": {},
   "outputs": [],
   "source": [
    "#Importing nesseccary functions.\n",
    "from pyspark.sql import functions as func\n",
    "from pyspark.sql.types import StructType,StructField,IntegerType,StringType,BooleanType,DoubleType,LongType"
   ]
  },
  {
   "cell_type": "markdown",
   "metadata": {},
   "source": [
    "### Reading the data from files in HDFS\n",
    "\n",
    "##### Creating schema to load data"
   ]
  },
  {
   "cell_type": "code",
   "execution_count": 4,
   "metadata": {},
   "outputs": [],
   "source": [
    "#Creating schema to load data\n",
    "fileSchema=StructType([StructField('year',IntegerType(),False),\n",
    "                       StructField('month',StringType(),False),\n",
    "\t\t\t\t\t   StructField('day',IntegerType(),False),\n",
    "\t\t\t\t\t   StructField('weekday',StringType(),False),\n",
    "\t\t\t\t\t   StructField('hour',IntegerType(),False),\n",
    "\t\t\t\t\t   StructField('atm_status',StringType(),False),\n",
    "\t\t\t\t\t   StructField('atm_id',StringType(),False),\n",
    "\t\t\t\t\t   StructField('atm_manufacturer',StringType(),False),\n",
    "\t\t\t\t\t   StructField('atm_location',StringType(),False),\n",
    "\t\t\t\t\t   StructField('atm_street_name',StringType(),False),\n",
    "\t\t\t\t\t   StructField('atm_street_number',IntegerType(),False),\n",
    "\t\t\t\t\t   StructField('atm_zipcode',IntegerType(),False),\n",
    "\t\t\t\t\t   StructField('atm_lat',DoubleType(),False),\n",
    "\t\t\t\t\t   StructField('atm_lon',DoubleType(),False),\n",
    "\t\t\t\t\t   StructField('currency',StringType(),False),\n",
    "\t\t\t\t\t   StructField('card_type',StringType(),False),\n",
    "\t\t\t\t\t   StructField('transaction_amount',IntegerType(),False),\n",
    "\t\t\t\t\t   StructField('service',StringType(),False),\n",
    "\t\t\t\t\t   StructField('message_code',StringType(),True),\n",
    "\t\t\t\t\t   StructField('message_text',StringType(),True),\n",
    "\t\t\t\t\t   StructField('weather_lat',DoubleType(),False),\n",
    "\t\t\t\t\t   StructField('weather_lon',DoubleType(),False),\n",
    "\t\t\t\t\t   StructField('weather_city_id',IntegerType(),False),\n",
    "\t\t\t\t\t   StructField('weather_city_name',StringType(),False),\n",
    "\t\t\t\t\t   StructField('temp',DoubleType(),False),\n",
    "\t\t\t\t\t   StructField('pressure',IntegerType(),False),\n",
    "\t\t\t\t\t   StructField('humidity',IntegerType(),False),\n",
    "\t\t\t\t\t   StructField('wind_speed',IntegerType(),False),\n",
    "                       StructField('wind_deg',IntegerType(),False),\t\n",
    "                       StructField('rain_3h',DoubleType(),True),\n",
    "\t\t\t\t\t   StructField('clouds_all',IntegerType(),False),\n",
    "\t\t\t\t\t   StructField('weather_id',IntegerType(),False),\n",
    "\t\t\t\t\t   StructField('weather_main',StringType(),False),\n",
    "\t\t\t\t\t   StructField('weather_description',StringType(),False)])"
   ]
  },
  {
   "cell_type": "markdown",
   "metadata": {},
   "source": [
    "##### Loading Data from HDFS to pyspark"
   ]
  },
  {
   "cell_type": "code",
   "execution_count": 5,
   "metadata": {},
   "outputs": [],
   "source": [
    "#Loading Data from HDFS to pyspark\n",
    "Bank_Details=spark.read.load(\"hdfs:/user/root/Bank_ATM_Data\",format=\"csv\",sep=',',schema=fileSchema,header=True,inferSchema = True)"
   ]
  },
  {
   "cell_type": "code",
   "execution_count": 7,
   "metadata": {},
   "outputs": [],
   "source": [
    "#Checking number of rows imported\n",
    "Bank_Details.count()"
   ]
  },
  {
   "cell_type": "code",
   "execution_count": 8,
   "metadata": {},
   "outputs": [
    {
     "name": "stdout",
     "output_type": "stream",
     "text": [
      "+----+-------+---+-------+----+----------+------+----------------+------------+-------------------+-----------------+-----------+-------+-------+--------+----------+------------------+----------+------------+------------+-----------+-----------+---------------+-----------------+------+--------+--------+----------+--------+-------+----------+----------+------------+--------------------+\n",
      "|year|  month|day|weekday|hour|atm_status|atm_id|atm_manufacturer|atm_location|    atm_street_name|atm_street_number|atm_zipcode|atm_lat|atm_lon|currency| card_type|transaction_amount|   service|message_code|message_text|weather_lat|weather_lon|weather_city_id|weather_city_name|  temp|pressure|humidity|wind_speed|wind_deg|rain_3h|clouds_all|weather_id|weather_main| weather_description|\n",
      "+----+-------+---+-------+----+----------+------+----------------+------------+-------------------+-----------------+-----------+-------+-------+--------+----------+------------------+----------+------------+------------+-----------+-----------+---------------+-----------------+------+--------+--------+----------+--------+-------+----------+----------+------------+--------------------+\n",
      "|2017|January|  1| Sunday|   0|  Inactive|     2|             NCR|    Vejgaard|         Hadsundvej|               20|       9000| 57.043|   9.95|     DKK|MasterCard|              1764|Withdrawal|        null|        null|     57.048|      9.935|        2616235|   NÃƒÂ¸rresundby|280.64|    1020|      93|         9|     250|   0.59|        92|       500|        Rain|          light rain|\n",
      "|2017|January|  1| Sunday|   0|  Inactive|     2|             NCR|    Vejgaard|         Hadsundvej|               20|       9000| 57.043|   9.95|     DKK|      VISA|              1891|Withdrawal|        null|        null|     57.048|      9.935|        2616235|   NÃƒÂ¸rresundby|280.64|    1020|      93|         9|     250|   0.59|        92|       500|        Rain|          light rain|\n",
      "|2017|January|  1| Sunday|   0|  Inactive|     3|             NCR|       Ikast|RÃƒÂ¥dhusstrÃƒÂ¦det|               12|       7430| 56.139|  9.154|     DKK|      VISA|              4166|Withdrawal|        null|        null|     56.139|      9.158|        2619426|            Ikast|281.15|    1011|     100|         6|     240|    0.0|        75|       300|     Drizzle|light intensity d...|\n",
      "|2017|January|  1| Sunday|   0|    Active|     4|             NCR|  Svogerslev|       BrÃƒÂ¸nsager|                1|       4000| 55.634| 12.018|     DKK|MasterCard|              5153|Withdrawal|        null|        null|     55.642|      12.08|        2614481|         Roskilde|280.61|    1014|      87|         7|     260|    0.0|        88|       701|        Mist|                mist|\n",
      "|2017|January|  1| Sunday|   0|    Active|     5|             NCR|        Nibe|             Torvet|                1|       9240| 56.983|  9.639|     DKK|MasterCard|              3269|Withdrawal|        null|        null|     56.981|      9.639|        2616483|             Nibe|280.64|    1020|      93|         9|     250|   0.59|        92|       500|        Rain|          light rain|\n",
      "+----+-------+---+-------+----+----------+------+----------------+------------+-------------------+-----------------+-----------+-------+-------+--------+----------+------------------+----------+------------+------------+-----------+-----------+---------------+-----------------+------+--------+--------+----------+--------+-------+----------+----------+------------+--------------------+\n",
      "only showing top 5 rows\n",
      "\n"
     ]
    }
   ],
   "source": [
    "Bank_Details.show(5)"
   ]
  },
  {
   "cell_type": "markdown",
   "metadata": {},
   "source": [
    "##### Converting data to get full_date_time column"
   ]
  },
  {
   "cell_type": "code",
   "execution_count": 6,
   "metadata": {},
   "outputs": [],
   "source": [
    "from pyspark.sql.functions import *"
   ]
  },
  {
   "cell_type": "code",
   "execution_count": 7,
   "metadata": {},
   "outputs": [],
   "source": [
    "#Month is represented in string, converting it to digits to form date column.\n",
    "Bank1=Bank_Details.withColumn(\"month_num\",from_unixtime(unix_timestamp(col(\"month\"),'MMMMMMMMMMM'),'MM'))"
   ]
  },
  {
   "cell_type": "code",
   "execution_count": 8,
   "metadata": {},
   "outputs": [
    {
     "name": "stdout",
     "output_type": "stream",
     "text": [
      "+---------+\n",
      "|month_num|\n",
      "+---------+\n",
      "|       01|\n",
      "|       01|\n",
      "|       01|\n",
      "|       01|\n",
      "|       01|\n",
      "+---------+\n",
      "only showing top 5 rows\n",
      "\n"
     ]
    }
   ],
   "source": [
    "#Checking month column\n",
    "Bank1.select('month_num').show(5)"
   ]
  },
  {
   "cell_type": "markdown",
   "metadata": {},
   "source": [
    "##### Forming full_date_time  column"
   ]
  },
  {
   "cell_type": "code",
   "execution_count": 9,
   "metadata": {},
   "outputs": [],
   "source": [
    "#Forming Date column\n",
    "cols=[\"year\",\"month_num\",\"day\"]\n",
    "Bank_Details_with_Date=Bank1.withColumn(\"full_date_time\",concat_ws(\"-\",*cols).cast(\"date\"))"
   ]
  },
  {
   "cell_type": "code",
   "execution_count": 10,
   "metadata": {},
   "outputs": [
    {
     "data": {
      "text/plain": [
       "<bound method DataFrame.printSchema of DataFrame[full_date_time: date]>"
      ]
     },
     "execution_count": 10,
     "metadata": {},
     "output_type": "execute_result"
    }
   ],
   "source": [
    "#Checking datatype of full_date_time\n",
    "Bank_Details_with_Date.select('full_date_time').printSchema"
   ]
  },
  {
   "cell_type": "markdown",
   "metadata": {},
   "source": [
    "### Creating stage tables to create Dimension tables."
   ]
  },
  {
   "cell_type": "markdown",
   "metadata": {},
   "source": [
    "###### 1) Creating stage_location table and removing duplicate rows."
   ]
  },
  {
   "cell_type": "code",
   "execution_count": 11,
   "metadata": {},
   "outputs": [],
   "source": [
    "#Creating Stage_location table \n",
    "STG_LOCTN=Bank_Details_with_Date.select('atm_location','atm_street_name','atm_street_number','atm_zipcode','atm_lat','atm_lon')\n",
    "#STG_LOCTN.show(5)"
   ]
  },
  {
   "cell_type": "code",
   "execution_count": 12,
   "metadata": {},
   "outputs": [
    {
     "data": {
      "text/plain": [
       "109"
      ]
     },
     "execution_count": 12,
     "metadata": {},
     "output_type": "execute_result"
    }
   ],
   "source": [
    "#Dropping Duplicate columns and checking count value.\n",
    "STG_LOCTN_Drop_Duplicate=STG_LOCTN.dropDuplicates()\n",
    "STG_LOCTN_Drop_Duplicate.count()"
   ]
  },
  {
   "cell_type": "code",
   "execution_count": 42,
   "metadata": {},
   "outputs": [
    {
     "name": "stdout",
     "output_type": "stream",
     "text": [
      "+--------------------+----------------+-----------------+-----------+-------+-------+\n",
      "|        atm_location| atm_street_name|atm_street_number|atm_zipcode|atm_lat|atm_lon|\n",
      "+--------------------+----------------+-----------------+-----------+-------+-------+\n",
      "|               Vadum|  Ellehammersvej|               43|       9430| 57.118|  9.861|\n",
      "|            Slagelse| Mariendals Alle|               29|       4200| 55.398| 11.342|\n",
      "|          Fredericia|SjÃƒÂ¦llandsgade|               33|       7000| 55.564|  9.757|\n",
      "|             Kolding|        Vejlevej|              135|       6000| 55.505|  9.457|\n",
      "|   HÃƒÂ¸rning Hallen|        Toftevej|               53|       8362| 56.091| 10.033|\n",
      "|                Aars| Himmerlandsgade|               70|       9600| 56.803|  9.518|\n",
      "|     Aarhus Lufthavn| Ny Lufthavnsvej|               24|       8560| 56.308| 10.627|\n",
      "|                 Fur|      StenÃƒÂ¸re|               19|       7884| 56.805|   9.02|\n",
      "|            Hasseris|     Hasserisvej|              113|       9000| 57.044|  9.898|\n",
      "|Intern  KÃƒÂ¸benhavn|RÃƒÂ¥dhuspladsen|               75|       1550| 55.676| 12.571|\n",
      "+--------------------+----------------+-----------------+-----------+-------+-------+\n",
      "only showing top 10 rows\n",
      "\n"
     ]
    }
   ],
   "source": [
    "#Displaying stage_location table\n",
    "STG_LOCTN_Drop_Duplicate.show(10)"
   ]
  },
  {
   "cell_type": "markdown",
   "metadata": {},
   "source": [
    "###### 2)Creating stage_ATM table and removing duplicate rows."
   ]
  },
  {
   "cell_type": "code",
   "execution_count": 13,
   "metadata": {},
   "outputs": [],
   "source": [
    "#Creating stage_ATM table\n",
    "STG_ATM=Bank_Details_with_Date.select('atm_id','atm_manufacturer','atm_lat','atm_lon')\n",
    "#STG_ATM.show(5)"
   ]
  },
  {
   "cell_type": "code",
   "execution_count": 15,
   "metadata": {},
   "outputs": [
    {
     "data": {
      "text/plain": [
       "113"
      ]
     },
     "execution_count": 15,
     "metadata": {},
     "output_type": "execute_result"
    }
   ],
   "source": [
    "#Removing duplicated and displaying count\n",
    "STG_ATM_Drop_Duplicate=STG_ATM.dropDuplicates()\n",
    "STG_ATM_Drop_Duplicate.count()"
   ]
  },
  {
   "cell_type": "markdown",
   "metadata": {},
   "source": [
    "###### 3)Creating stage_DATE table and removing duplicate rows."
   ]
  },
  {
   "cell_type": "code",
   "execution_count": 16,
   "metadata": {},
   "outputs": [
    {
     "name": "stdout",
     "output_type": "stream",
     "text": [
      "+--------------+----+-------+---+-------+----+\n",
      "|full_date_time|year|  month|day|weekday|hour|\n",
      "+--------------+----+-------+---+-------+----+\n",
      "|    2017-01-01|2017|January|  1| Sunday|   0|\n",
      "|    2017-01-01|2017|January|  1| Sunday|   0|\n",
      "|    2017-01-01|2017|January|  1| Sunday|   0|\n",
      "|    2017-01-01|2017|January|  1| Sunday|   0|\n",
      "|    2017-01-01|2017|January|  1| Sunday|   0|\n",
      "|    2017-01-01|2017|January|  1| Sunday|   0|\n",
      "|    2017-01-01|2017|January|  1| Sunday|   0|\n",
      "|    2017-01-01|2017|January|  1| Sunday|   0|\n",
      "|    2017-01-01|2017|January|  1| Sunday|   0|\n",
      "|    2017-01-01|2017|January|  1| Sunday|   0|\n",
      "+--------------+----+-------+---+-------+----+\n",
      "only showing top 10 rows\n",
      "\n"
     ]
    }
   ],
   "source": [
    "#Creating stage_DATE table\n",
    "STG_DATE=Bank_Details_with_Date.select('full_date_time','year','month','day','weekday','hour')\n",
    "STG_DATE.show(10)"
   ]
  },
  {
   "cell_type": "code",
   "execution_count": 18,
   "metadata": {},
   "outputs": [
    {
     "data": {
      "text/plain": [
       "8685"
      ]
     },
     "execution_count": 18,
     "metadata": {},
     "output_type": "execute_result"
    }
   ],
   "source": [
    "#removing duplicate rows\n",
    "STG_DATE_Drop_Duplicate=STG_DATE.dropDuplicates()\n",
    "STG_DATE_Drop_Duplicate.count()"
   ]
  },
  {
   "cell_type": "markdown",
   "metadata": {},
   "source": [
    "###### 4)Creating stage_CARD_TYPE table and removing duplicate rows."
   ]
  },
  {
   "cell_type": "code",
   "execution_count": 19,
   "metadata": {},
   "outputs": [
    {
     "name": "stdout",
     "output_type": "stream",
     "text": [
      "+------------------+\n",
      "|         card_type|\n",
      "+------------------+\n",
      "|        MasterCard|\n",
      "|              VISA|\n",
      "|              VISA|\n",
      "|        MasterCard|\n",
      "|        MasterCard|\n",
      "|        MasterCard|\n",
      "|Mastercard - on-us|\n",
      "|        MasterCard|\n",
      "|              VISA|\n",
      "|           Dankort|\n",
      "+------------------+\n",
      "only showing top 10 rows\n",
      "\n"
     ]
    }
   ],
   "source": [
    "#Creating stage_CARD_TYPE table removing duplicate rows.\n",
    "STG_CARD_TYPE=Bank_Details.select('card_type')\n",
    "STG_CARD_TYPE.show(10)"
   ]
  },
  {
   "cell_type": "code",
   "execution_count": 20,
   "metadata": {},
   "outputs": [
    {
     "data": {
      "text/plain": [
       "12"
      ]
     },
     "execution_count": 20,
     "metadata": {},
     "output_type": "execute_result"
    }
   ],
   "source": [
    "#removing duplicate rows.\n",
    "STG_CARD_TYPE_Drop_Duplicate=STG_CARD_TYPE.dropDuplicates()\n",
    "STG_CARD_TYPE_Drop_Duplicate.count()"
   ]
  },
  {
   "cell_type": "markdown",
   "metadata": {},
   "source": [
    "#### 5)Adding Row_IDs to stage table and re-arranging columns."
   ]
  },
  {
   "cell_type": "markdown",
   "metadata": {},
   "source": [
    "###### 5.1)Adding Row_IDs to stage_CARD_TYPE_TABLE"
   ]
  },
  {
   "cell_type": "code",
   "execution_count": 21,
   "metadata": {},
   "outputs": [],
   "source": [
    "#Writing window function to add card_type_id column\n",
    "from pyspark.sql.window import Window\n",
    "windowSpec  = Window.partitionBy().orderBy('card_type')\n",
    "STG_CARD_TYPE_Drop_Duplicate=STG_CARD_TYPE_Drop_Duplicate.withColumn(\"card_type_id\",3000+(rank().over(windowSpec)))"
   ]
  },
  {
   "cell_type": "markdown",
   "metadata": {},
   "source": [
    "###### 5.2)Adding Row_IDs to stage_LOCATION_TABLE"
   ]
  },
  {
   "cell_type": "code",
   "execution_count": 22,
   "metadata": {},
   "outputs": [],
   "source": [
    "#Writing window function to add location_id column\n",
    "from pyspark.sql.window import Window\n",
    "from pyspark.sql.functions import row_number\n",
    "loctn_windw_spec = Window.partitionBy().orderBy([\"atm_location\",\"atm_street_name\",\"atm_street_number\"])"
   ]
  },
  {
   "cell_type": "code",
   "execution_count": 23,
   "metadata": {
    "scrolled": false
   },
   "outputs": [
    {
     "name": "stdout",
     "output_type": "stream",
     "text": [
      "+--------------------+---------------+-----------------+-----------+-------+-------+-----------+\n",
      "|        atm_location|atm_street_name|atm_street_number|atm_zipcode|atm_lat|atm_lon|LOCATION_ID|\n",
      "+--------------------+---------------+-----------------+-----------+-------+-------+-----------+\n",
      "|             Aabybro|   ÃƒËœstergade|                6|       9440| 57.162|   9.73|       1001|\n",
      "|      Aalborg Hallen|   Europa Plads|                4|       9000| 57.044|  9.913|       1002|\n",
      "|Aalborg Storcente...|       Hobrovej|              452|       9200| 57.005|  9.876|       1003|\n",
      "|Aalborg Storcente...|       Hobrovej|              452|       9200| 57.005|  9.876|       1004|\n",
      "|         Aalborg Syd|       Hobrovej|              440|       9200| 57.005|  9.881|       1005|\n",
      "+--------------------+---------------+-----------------+-----------+-------+-------+-----------+\n",
      "only showing top 5 rows\n",
      "\n"
     ]
    }
   ],
   "source": [
    "#Creating and showing location-ID data\n",
    "STG_LOCTN_Drop_Duplicate=STG_LOCTN_Drop_Duplicate.withColumn(\"LOCATION_ID\",1000+row_number().over(loctn_windw_spec))\n",
    "STG_LOCTN_Drop_Duplicate.show(5)"
   ]
  },
  {
   "cell_type": "code",
   "execution_count": 24,
   "metadata": {},
   "outputs": [
    {
     "name": "stdout",
     "output_type": "stream",
     "text": [
      "+--------------------+------------+-------------+-------+------+-----+-----------+\n",
      "|            LOCATION| STREET_NAME|STREET_NUMBER|ZIPCODE|   LAT|  LON|LOCATION_ID|\n",
      "+--------------------+------------+-------------+-------+------+-----+-----------+\n",
      "|             Aabybro|ÃƒËœstergade|            6|   9440|57.162| 9.73|       1001|\n",
      "|      Aalborg Hallen|Europa Plads|            4|   9000|57.044|9.913|       1002|\n",
      "|Aalborg Storcente...|    Hobrovej|          452|   9200|57.005|9.876|       1003|\n",
      "|Aalborg Storcente...|    Hobrovej|          452|   9200|57.005|9.876|       1004|\n",
      "|         Aalborg Syd|    Hobrovej|          440|   9200|57.005|9.881|       1005|\n",
      "+--------------------+------------+-------------+-------+------+-----+-----------+\n",
      "only showing top 5 rows\n",
      "\n"
     ]
    }
   ],
   "source": [
    "#Renaming columns in stage Location table and checking columns\n",
    "STG_LOCTN_Drop_Duplicate=STG_LOCTN_Drop_Duplicate.withColumnRenamed(\"atm_location\",\"LOCATION\") \\\n",
    ".withColumnRenamed(\"atm_street_name\",\"STREET_NAME\") \\\n",
    ".withColumnRenamed(\"atm_street_number\",\"STREET_NUMBER\") \\\n",
    ".withColumnRenamed(\"atm_zipcode\",\"ZIPCODE\") \\\n",
    ".withColumnRenamed(\"atm_lat\",\"LAT\") \\\n",
    ".withColumnRenamed(\"atm_lon\",\"LON\")\n",
    "STG_LOCTN_Drop_Duplicate.show(5)"
   ]
  },
  {
   "cell_type": "markdown",
   "metadata": {},
   "source": [
    "### Creating DIMENSION_LOCATION Table"
   ]
  },
  {
   "cell_type": "code",
   "execution_count": 25,
   "metadata": {},
   "outputs": [
    {
     "name": "stdout",
     "output_type": "stream",
     "text": [
      "+-----------+--------------------+------------+-------------+-------+------+-----+\n",
      "|LOCATION_ID|            LOCATION| STREET_NAME|STREET_NUMBER|ZIPCODE|   LAT|  LON|\n",
      "+-----------+--------------------+------------+-------------+-------+------+-----+\n",
      "|       1001|             Aabybro|ÃƒËœstergade|            6|   9440|57.162| 9.73|\n",
      "|       1002|      Aalborg Hallen|Europa Plads|            4|   9000|57.044|9.913|\n",
      "|       1003|Aalborg Storcente...|    Hobrovej|          452|   9200|57.005|9.876|\n",
      "|       1004|Aalborg Storcente...|    Hobrovej|          452|   9200|57.005|9.876|\n",
      "|       1005|         Aalborg Syd|    Hobrovej|          440|   9200|57.005|9.881|\n",
      "+-----------+--------------------+------------+-------------+-------+------+-----+\n",
      "only showing top 5 rows\n",
      "\n"
     ]
    }
   ],
   "source": [
    "#Rearranging columns in location table and creating final DIM_LOCATION table\n",
    "DIM_LOCATION=STG_LOCTN_Drop_Duplicate.select('LOCATION_ID','LOCATION','STREET_NAME','STREET_NUMBER','ZIPCODE','LAT','LON')\n",
    "DIM_LOCATION.show(5)"
   ]
  },
  {
   "cell_type": "code",
   "execution_count": 26,
   "metadata": {},
   "outputs": [
    {
     "name": "stdout",
     "output_type": "stream",
     "text": [
      "+-------------------+------------+\n",
      "|          CARD_TYPE|CARD_TYPE_ID|\n",
      "+-------------------+------------+\n",
      "|             CIRRUS|        3001|\n",
      "|            Dankort|        3002|\n",
      "|    Dankort - on-us|        3003|\n",
      "|        HÃƒÂ¦vekort|        3004|\n",
      "|HÃƒÂ¦vekort - on-us|        3005|\n",
      "+-------------------+------------+\n",
      "only showing top 5 rows\n",
      "\n"
     ]
    }
   ],
   "source": [
    "#Renaming Stage_CARD_TYPE Table \n",
    "STG_CARD_TYPE_Drop_Duplicate=STG_CARD_TYPE_Drop_Duplicate.withColumnRenamed('card_type','CARD_TYPE') \\\n",
    ".withColumnRenamed('card_type_id','CARD_TYPE_ID')\n",
    "STG_CARD_TYPE_Drop_Duplicate.show(5)"
   ]
  },
  {
   "cell_type": "markdown",
   "metadata": {},
   "source": [
    "### Creating DIMENSION_CARD_TYPE table \n"
   ]
  },
  {
   "cell_type": "code",
   "execution_count": 27,
   "metadata": {},
   "outputs": [
    {
     "name": "stdout",
     "output_type": "stream",
     "text": [
      "+------------+-------------------+\n",
      "|CARD_TYPE_ID|          CARD_TYPE|\n",
      "+------------+-------------------+\n",
      "|        3001|             CIRRUS|\n",
      "|        3002|            Dankort|\n",
      "|        3003|    Dankort - on-us|\n",
      "|        3004|        HÃƒÂ¦vekort|\n",
      "|        3005|HÃƒÂ¦vekort - on-us|\n",
      "+------------+-------------------+\n",
      "only showing top 5 rows\n",
      "\n"
     ]
    }
   ],
   "source": [
    "DIM_CARD_TYPE=STG_CARD_TYPE_Drop_Duplicate.select('CARD_TYPE_ID','CARD_TYPE')\n",
    "DIM_CARD_TYPE.show(5)"
   ]
  },
  {
   "cell_type": "code",
   "execution_count": 28,
   "metadata": {},
   "outputs": [
    {
     "name": "stdout",
     "output_type": "stream",
     "text": [
      "+------+----------------+-------+-------+\n",
      "|atm_id|atm_manufacturer|atm_lat|atm_lon|\n",
      "+------+----------------+-------+-------+\n",
      "|   113| Diebold Nixdorf| 55.398| 11.342|\n",
      "|    54|             NCR| 56.745|  8.949|\n",
      "|   104|             NCR| 57.049|  9.922|\n",
      "|    18| Diebold Nixdorf| 56.448|  9.401|\n",
      "|     8|             NCR| 56.762|  8.867|\n",
      "+------+----------------+-------+-------+\n",
      "only showing top 5 rows\n",
      "\n"
     ]
    }
   ],
   "source": [
    "STG_ATM_Drop_Duplicate.show(5)"
   ]
  },
  {
   "cell_type": "markdown",
   "metadata": {},
   "source": [
    "### Joining Dimension_Location and stage table of Dimension_ATM to get Location_ID\n",
    "\n",
    "#### Creating intermediate table to get foreign key into Dimension_ATM table"
   ]
  },
  {
   "cell_type": "code",
   "execution_count": 29,
   "metadata": {},
   "outputs": [
    {
     "name": "stdout",
     "output_type": "stream",
     "text": [
      "+-----------+--------------------+------------------+-------------+-------+------+------+------+----------------+-------+-------+\n",
      "|LOCATION_ID|            LOCATION|       STREET_NAME|STREET_NUMBER|ZIPCODE|   LAT|   LON|atm_id|atm_manufacturer|atm_lat|atm_lon|\n",
      "+-----------+--------------------+------------------+-------------+-------+------+------+------+----------------+-------+-------+\n",
      "|       1014|         Bispensgade|       Bispensgade|           35|   9800|57.453| 9.996|    20|             NCR| 57.453|  9.996|\n",
      "|       1094|           Svendborg|Sankt Nicolai Gade|            1|   5700|55.058|10.609|    84|             NCR| 55.058| 10.609|\n",
      "|       1025|          Fredericia|  SjÃƒÂ¦llandsgade|           33|   7000|55.564| 9.757|     6|             NCR| 55.564|  9.757|\n",
      "|       1008|              Aarhus|    SÃƒÂ¸nder Alle|           11|   8000|56.153|10.206|    50|             NCR| 56.153| 10.206|\n",
      "|       1072|    NykÃƒÂ¸bing Mors|       Kirketorvet|            1|   7900|56.795|  8.86|    59| Diebold Nixdorf| 56.795|   8.86|\n",
      "|       1072|    NykÃƒÂ¸bing Mors|       Kirketorvet|            1|   7900|56.795|  8.86|    30|             NCR| 56.795|   8.86|\n",
      "|       1073|NykÃƒÂ¸bing Mors ...|       Kirketorvet|            1|   7900|56.795|  8.86|    59| Diebold Nixdorf| 56.795|   8.86|\n",
      "|       1073|NykÃƒÂ¸bing Mors ...|       Kirketorvet|            1|   7900|56.795|  8.86|    30|             NCR| 56.795|   8.86|\n",
      "|       1010|                Aars|   Himmerlandsgade|           70|   9600|56.803| 9.518|    43|             NCR| 56.803|  9.518|\n",
      "|       1019|    DAYZ Feriecenter|        LivÃƒÂ¸vej|           80|   9681|56.893| 9.171|    76|             NCR| 56.893|  9.171|\n",
      "|       1066|       LÃƒÂ¸gstÃƒÂ¸r|   ÃƒËœsterbrogade|            8|   9670|56.967| 9.253|    28|             NCR| 56.967|  9.253|\n",
      "|       1068|          Middelfart|           Brogade|            9|   5500|55.507| 9.727|    79|             NCR| 55.507|  9.727|\n",
      "|       1083|      Skallerup Klit|    Nordre Klitvej|           21|   9800|57.494| 9.838|    82|             NCR| 57.494|  9.838|\n",
      "|       1033|        HelsingÃƒÂ¸r|    Sct. Olai Gade|           39|   3000|56.036|12.612|    46| Diebold Nixdorf| 56.036| 12.612|\n",
      "|       1064|             KÃƒÂ¸ge|    SÃƒÂ¸ndre Alle|            1|   4600|55.454|12.181|    56| Diebold Nixdorf| 55.454| 12.181|\n",
      "|       1036|HillerÃƒÂ¸d IdrÃƒ...|        Milnersvej|           39|   3400|55.921|12.299|    86|             NCR| 55.921| 12.299|\n",
      "|       1030|         GlyngÃƒÂ¸re|       FÃƒÂ¦rgevej|            1|   7870|56.762| 8.867|     8|             NCR| 56.762|  8.867|\n",
      "|       1101|            Terndrup|          Bymidten|            2|   9575|56.815|10.057|    62| Diebold Nixdorf| 56.815| 10.057|\n",
      "|       1012|               Arden|        Vestergade|            6|   9510|56.769| 9.859|    55|             NCR| 56.769|  9.859|\n",
      "|       1053|Intern  KÃƒÂ¸benhavn|  RÃƒÂ¥dhuspladsen|           75|   1550|55.676|12.571|    85| Diebold Nixdorf| 55.676| 12.571|\n",
      "+-----------+--------------------+------------------+-------------+-------+------+------+------+----------------+-------+-------+\n",
      "only showing top 20 rows\n",
      "\n"
     ]
    }
   ],
   "source": [
    "#Joining two tables.\n",
    "Intermediate_STG_ATM=DIM_LOCATION.join(STG_ATM_Drop_Duplicate,(DIM_LOCATION[\"LON\"] ==  STG_ATM_Drop_Duplicate[\"atm_lon\"]) & (DIM_LOCATION[\"LAT\"] ==  STG_ATM_Drop_Duplicate[\"atm_lat\"]),\"leftouter\")\n",
    "Intermediate_STG_ATM.show()"
   ]
  },
  {
   "cell_type": "code",
   "execution_count": 30,
   "metadata": {},
   "outputs": [
    {
     "data": {
      "text/plain": [
       "156"
      ]
     },
     "execution_count": 30,
     "metadata": {},
     "output_type": "execute_result"
    }
   ],
   "source": [
    "#Checking unique count of stage_ATM table\n",
    "Intermediate_STG_ATM_1=Intermediate_STG_ATM.select('atm_id','atm_manufacturer','LOCATION_ID')\n",
    "Intermediate_STG_ATM_1.distinct().count()"
   ]
  },
  {
   "cell_type": "markdown",
   "metadata": {},
   "source": [
    "### Creating DIM_ATM table\n",
    "\n",
    "\n"
   ]
  },
  {
   "cell_type": "code",
   "execution_count": 31,
   "metadata": {},
   "outputs": [
    {
     "name": "stdout",
     "output_type": "stream",
     "text": [
      "+----------+----------------+---------------+\n",
      "|ATM_NUMBER|ATM_MANUFACTURER|ATM_LOCATION_ID|\n",
      "+----------+----------------+---------------+\n",
      "|        20|             NCR|           1014|\n",
      "|        84|             NCR|           1094|\n",
      "|         6|             NCR|           1025|\n",
      "|        50|             NCR|           1008|\n",
      "|        59| Diebold Nixdorf|           1072|\n",
      "+----------+----------------+---------------+\n",
      "only showing top 5 rows\n",
      "\n"
     ]
    }
   ],
   "source": [
    "#Renaming columns\n",
    "STG_ATM_Drop_Duplicate_copy=Intermediate_STG_ATM_1.withColumnRenamed(\"atm_id\",\"ATM_NUMBER\") \\\n",
    ".withColumnRenamed(\"atm_manufacturer\",\"ATM_MANUFACTURER\") \\\n",
    ".withColumnRenamed(\"LOCATION_ID\",\"ATM_LOCATION_ID\")\n",
    "STG_ATM_Drop_Duplicate_copy.show(5)"
   ]
  },
  {
   "cell_type": "code",
   "execution_count": 32,
   "metadata": {},
   "outputs": [
    {
     "data": {
      "text/plain": [
       "156"
      ]
     },
     "execution_count": 32,
     "metadata": {},
     "output_type": "execute_result"
    }
   ],
   "source": [
    "#Checking unique count\n",
    "STG_ATM_Drop_Duplicate_copy.distinct().count()"
   ]
  },
  {
   "cell_type": "markdown",
   "metadata": {},
   "source": [
    "###### Writing window function to add ATM_ID"
   ]
  },
  {
   "cell_type": "code",
   "execution_count": 33,
   "metadata": {},
   "outputs": [
    {
     "name": "stdout",
     "output_type": "stream",
     "text": [
      "+----------+----------------+---------------+------+\n",
      "|ATM_NUMBER|ATM_MANUFACTURER|ATM_LOCATION_ID|ATM_ID|\n",
      "+----------+----------------+---------------+------+\n",
      "|         1|             NCR|           1075|  5001|\n",
      "|        10|             NCR|           1076|  5002|\n",
      "|       100|             NCR|           1056|  5003|\n",
      "|       100|             NCR|           1086|  5004|\n",
      "|       100|             NCR|           1087|  5005|\n",
      "+----------+----------------+---------------+------+\n",
      "only showing top 5 rows\n",
      "\n"
     ]
    }
   ],
   "source": [
    "Atm_windw_spec = Window.partitionBy().orderBy([\"ATM_NUMBER\"])\n",
    "STG_ATM_Drop_Duplicate_copy=STG_ATM_Drop_Duplicate_copy.withColumn(\"ATM_ID\",5000+row_number().over(Atm_windw_spec))\n",
    "STG_ATM_Drop_Duplicate_copy.show(5)\n"
   ]
  },
  {
   "cell_type": "code",
   "execution_count": 34,
   "metadata": {},
   "outputs": [
    {
     "name": "stdout",
     "output_type": "stream",
     "text": [
      "+------+----------+----------------+---------------+\n",
      "|ATM_ID|ATM_NUMBER|ATM_MANUFACTURER|ATM_LOCATION_ID|\n",
      "+------+----------+----------------+---------------+\n",
      "|  5001|         1|             NCR|           1075|\n",
      "|  5002|        10|             NCR|           1076|\n",
      "|  5003|       100|             NCR|           1056|\n",
      "|  5004|       100|             NCR|           1086|\n",
      "|  5005|       100|             NCR|           1087|\n",
      "+------+----------+----------------+---------------+\n",
      "only showing top 5 rows\n",
      "\n"
     ]
    }
   ],
   "source": [
    "#Re-arranging columns in required order and checking the data\n",
    "DIM_ATM=STG_ATM_Drop_Duplicate_copy.select('ATM_ID','ATM_NUMBER','ATM_MANUFACTURER','ATM_LOCATION_ID')\n",
    "DIM_ATM.show(5)"
   ]
  },
  {
   "cell_type": "code",
   "execution_count": 35,
   "metadata": {},
   "outputs": [
    {
     "data": {
      "text/plain": [
       "156"
      ]
     },
     "execution_count": 35,
     "metadata": {},
     "output_type": "execute_result"
    }
   ],
   "source": [
    "#Checking the count of rows.\n",
    "DIM_ATM.count()"
   ]
  },
  {
   "cell_type": "markdown",
   "metadata": {},
   "source": [
    "### Creating Dimension_DATE table"
   ]
  },
  {
   "cell_type": "code",
   "execution_count": 36,
   "metadata": {},
   "outputs": [],
   "source": [
    "#Renaming column names\n",
    "STG_DATE_Drop_Duplicate=STG_DATE_Drop_Duplicate.withColumnRenamed(\"full_date_time\",\"FULL_DATE_TIME\") \\\n",
    ".withColumnRenamed(\"month\",\"MONTH\") \\\n",
    ".withColumnRenamed(\"year\",\"YEAR\") \\\n",
    ".withColumnRenamed(\"day\",\"DAY\") \\\n",
    ".withColumnRenamed(\"hour\",\"HOUR\") \\\n",
    ".withColumnRenamed(\"weekday\",\"WEEKDAY\")\n",
    "#STG_DATE_Drop_Duplicate.show(5)"
   ]
  },
  {
   "cell_type": "markdown",
   "metadata": {},
   "source": [
    "###### Writing window function to create DATE_ID"
   ]
  },
  {
   "cell_type": "code",
   "execution_count": 37,
   "metadata": {},
   "outputs": [],
   "source": [
    "date_windw_spec = Window.partitionBy().orderBy([\"MONTH\"])\n",
    "STG_DATE_Drop_Duplicate=STG_DATE_Drop_Duplicate.withColumn(\"DATE_ID\",1000+row_number().over(date_windw_spec))\n",
    "#STG_DATE_Drop_Duplicate.show(5)"
   ]
  },
  {
   "cell_type": "code",
   "execution_count": 38,
   "metadata": {},
   "outputs": [
    {
     "name": "stdout",
     "output_type": "stream",
     "text": [
      "+-------+--------------+----+-----+---+----+--------+\n",
      "|DATE_ID|FULL_DATE_TIME|YEAR|MONTH|DAY|HOUR| WEEKDAY|\n",
      "+-------+--------------+----+-----+---+----+--------+\n",
      "|   1001|    2017-04-11|2017|April| 11|   2| Tuesday|\n",
      "|   1002|    2017-04-16|2017|April| 16|  16|  Sunday|\n",
      "|   1003|    2017-04-17|2017|April| 17|  10|  Monday|\n",
      "|   1004|    2017-04-17|2017|April| 17|  19|  Monday|\n",
      "|   1005|    2017-04-20|2017|April| 20|  14|Thursday|\n",
      "+-------+--------------+----+-----+---+----+--------+\n",
      "only showing top 5 rows\n",
      "\n"
     ]
    }
   ],
   "source": [
    "# Creating Final Dimension_Date table\n",
    "DIM_DATE=STG_DATE_Drop_Duplicate.select('DATE_ID','FULL_DATE_TIME','YEAR','MONTH','DAY','HOUR','WEEKDAY')\n",
    "DIM_DATE.show(5)"
   ]
  },
  {
   "cell_type": "markdown",
   "metadata": {},
   "source": [
    "### Creating Fact Table\n",
    "\n",
    "##### Checking count of 4 Dimension tables before Joining them."
   ]
  },
  {
   "cell_type": "code",
   "execution_count": 39,
   "metadata": {},
   "outputs": [
    {
     "name": "stdout",
     "output_type": "stream",
     "text": [
      "+-----------+--------------------+------------+-------------+-------+------+-----+\n",
      "|LOCATION_ID|            LOCATION| STREET_NAME|STREET_NUMBER|ZIPCODE|   LAT|  LON|\n",
      "+-----------+--------------------+------------+-------------+-------+------+-----+\n",
      "|       1001|             Aabybro|ÃƒËœstergade|            6|   9440|57.162| 9.73|\n",
      "|       1002|      Aalborg Hallen|Europa Plads|            4|   9000|57.044|9.913|\n",
      "|       1003|Aalborg Storcente...|    Hobrovej|          452|   9200|57.005|9.876|\n",
      "|       1004|Aalborg Storcente...|    Hobrovej|          452|   9200|57.005|9.876|\n",
      "|       1005|         Aalborg Syd|    Hobrovej|          440|   9200|57.005|9.881|\n",
      "+-----------+--------------------+------------+-------------+-------+------+-----+\n",
      "only showing top 5 rows\n",
      "\n"
     ]
    }
   ],
   "source": [
    "DIM_LOCATION.show(5)"
   ]
  },
  {
   "cell_type": "code",
   "execution_count": 40,
   "metadata": {},
   "outputs": [
    {
     "data": {
      "text/plain": [
       "109"
      ]
     },
     "execution_count": 40,
     "metadata": {},
     "output_type": "execute_result"
    }
   ],
   "source": [
    "DIM_LOCATION.count()"
   ]
  },
  {
   "cell_type": "code",
   "execution_count": 41,
   "metadata": {},
   "outputs": [
    {
     "name": "stdout",
     "output_type": "stream",
     "text": [
      "+------------+-------------------+\n",
      "|CARD_TYPE_ID|          CARD_TYPE|\n",
      "+------------+-------------------+\n",
      "|        3001|             CIRRUS|\n",
      "|        3002|            Dankort|\n",
      "|        3003|    Dankort - on-us|\n",
      "|        3004|        HÃƒÂ¦vekort|\n",
      "|        3005|HÃƒÂ¦vekort - on-us|\n",
      "+------------+-------------------+\n",
      "only showing top 5 rows\n",
      "\n"
     ]
    }
   ],
   "source": [
    "DIM_CARD_TYPE.show(5)"
   ]
  },
  {
   "cell_type": "code",
   "execution_count": 42,
   "metadata": {},
   "outputs": [
    {
     "data": {
      "text/plain": [
       "12"
      ]
     },
     "execution_count": 42,
     "metadata": {},
     "output_type": "execute_result"
    }
   ],
   "source": [
    "DIM_CARD_TYPE.count()"
   ]
  },
  {
   "cell_type": "code",
   "execution_count": 43,
   "metadata": {},
   "outputs": [
    {
     "name": "stdout",
     "output_type": "stream",
     "text": [
      "+------+----------+----------------+---------------+\n",
      "|ATM_ID|ATM_NUMBER|ATM_MANUFACTURER|ATM_LOCATION_ID|\n",
      "+------+----------+----------------+---------------+\n",
      "|  5001|         1|             NCR|           1075|\n",
      "|  5002|        10|             NCR|           1076|\n",
      "|  5003|       100|             NCR|           1056|\n",
      "|  5004|       100|             NCR|           1086|\n",
      "|  5005|       100|             NCR|           1087|\n",
      "+------+----------+----------------+---------------+\n",
      "only showing top 5 rows\n",
      "\n"
     ]
    }
   ],
   "source": [
    "DIM_ATM.show(5)"
   ]
  },
  {
   "cell_type": "code",
   "execution_count": 44,
   "metadata": {},
   "outputs": [
    {
     "data": {
      "text/plain": [
       "156"
      ]
     },
     "execution_count": 44,
     "metadata": {},
     "output_type": "execute_result"
    }
   ],
   "source": [
    "DIM_ATM.count()"
   ]
  },
  {
   "cell_type": "code",
   "execution_count": 45,
   "metadata": {},
   "outputs": [
    {
     "name": "stdout",
     "output_type": "stream",
     "text": [
      "+-------+--------------+----+-----+---+----+--------+\n",
      "|DATE_ID|FULL_DATE_TIME|YEAR|MONTH|DAY|HOUR| WEEKDAY|\n",
      "+-------+--------------+----+-----+---+----+--------+\n",
      "|   1001|    2017-04-11|2017|April| 11|   2| Tuesday|\n",
      "|   1002|    2017-04-16|2017|April| 16|  16|  Sunday|\n",
      "|   1003|    2017-04-17|2017|April| 17|  10|  Monday|\n",
      "|   1004|    2017-04-17|2017|April| 17|  19|  Monday|\n",
      "|   1005|    2017-04-20|2017|April| 20|  14|Thursday|\n",
      "+-------+--------------+----+-----+---+----+--------+\n",
      "only showing top 5 rows\n",
      "\n"
     ]
    }
   ],
   "source": [
    "DIM_DATE.show(5)"
   ]
  },
  {
   "cell_type": "code",
   "execution_count": 46,
   "metadata": {},
   "outputs": [
    {
     "data": {
      "text/plain": [
       "8685"
      ]
     },
     "execution_count": 46,
     "metadata": {},
     "output_type": "execute_result"
    }
   ],
   "source": [
    "DIM_DATE.count()"
   ]
  },
  {
   "cell_type": "markdown",
   "metadata": {},
   "source": [
    "##### Renaming column atm_id to atm_num to avoid data ambiguity issue."
   ]
  },
  {
   "cell_type": "code",
   "execution_count": 47,
   "metadata": {},
   "outputs": [],
   "source": [
    "#Renaming column\n",
    "Bank_Details_with_Date=Bank_Details_with_Date.withColumnRenamed('atm_id','atm_num')"
   ]
  },
  {
   "cell_type": "markdown",
   "metadata": {},
   "source": [
    "### Joining Dimension Tables to create Fact Table \n",
    "\n",
    "##### Joining Bank_Details table with DIM_LOCATION Table and creating Stage1_fact Table"
   ]
  },
  {
   "cell_type": "code",
   "execution_count": 48,
   "metadata": {},
   "outputs": [],
   "source": [
    "#Joining Bank_Details table with DIM_LOCATION Table\n",
    "Stage1_Fact=Bank_Details_with_Date.join(DIM_LOCATION,(Bank_Details_with_Date[\"atm_location\"] == DIM_LOCATION[\"LOCATION\"]) & (Bank_Details_with_Date[\"atm_street_name\"] == DIM_LOCATION[\"STREET_NAME\"]) & (Bank_Details_with_Date[\"atm_street_number\"] == DIM_LOCATION[\"STREET_NUMBER\"]) & (Bank_Details_with_Date[\"atm_zipcode\"] == DIM_LOCATION[\"ZIPCODE\"]),\"leftouter\")"
   ]
  },
  {
   "cell_type": "code",
   "execution_count": 49,
   "metadata": {},
   "outputs": [
    {
     "data": {
      "text/plain": [
       "2468571"
      ]
     },
     "execution_count": 49,
     "metadata": {},
     "output_type": "execute_result"
    }
   ],
   "source": [
    "#Checking count\n",
    "Stage1_Fact.count()"
   ]
  },
  {
   "cell_type": "markdown",
   "metadata": {},
   "source": [
    "##### Joining Stage1_fact table with DIM_ATM Table and creating Stage2_fact Table"
   ]
  },
  {
   "cell_type": "code",
   "execution_count": 50,
   "metadata": {},
   "outputs": [],
   "source": [
    "Stage2_Fact=Stage1_Fact.join(DIM_ATM,(Stage1_Fact[\"atm_num\"]==DIM_ATM[\"ATM_NUMBER\"]) & (Stage1_Fact[\"atm_manufacturer\"]==DIM_ATM[\"ATM_MANUFACTURER\"]) & (Stage1_Fact[\"LOCATION_ID\"]==DIM_ATM[\"ATM_LOCATION_ID\"]),\"leftouter\")"
   ]
  },
  {
   "cell_type": "code",
   "execution_count": 51,
   "metadata": {},
   "outputs": [
    {
     "data": {
      "text/plain": [
       "2468571"
      ]
     },
     "execution_count": 51,
     "metadata": {},
     "output_type": "execute_result"
    }
   ],
   "source": [
    "#Checking count\n",
    "Stage2_Fact.count()"
   ]
  },
  {
   "cell_type": "markdown",
   "metadata": {},
   "source": [
    "##### Joining Stage2_fact table with DIM_DATE Table and creating Stage3_fact Table"
   ]
  },
  {
   "cell_type": "code",
   "execution_count": 52,
   "metadata": {},
   "outputs": [],
   "source": [
    "Stage3_Fact=Stage2_Fact.join(DIM_DATE,(Stage2_Fact[\"full_date_time\"]==DIM_DATE[\"FULL_DATE_TIME\"]) & (Stage2_Fact[\"weekday\"]==DIM_DATE[\"WEEKDAY\"]) & (Stage2_Fact[\"hour\"]==DIM_DATE[\"HOUR\"]),\"leftouter\" )"
   ]
  },
  {
   "cell_type": "code",
   "execution_count": 53,
   "metadata": {},
   "outputs": [
    {
     "data": {
      "text/plain": [
       "2468571"
      ]
     },
     "execution_count": 53,
     "metadata": {},
     "output_type": "execute_result"
    }
   ],
   "source": [
    "Stage3_Fact.count()"
   ]
  },
  {
   "cell_type": "markdown",
   "metadata": {},
   "source": [
    "##### Joining Stage3_fact table with DIM_CARD_TYPE Table and creating Stage4_fact Table"
   ]
  },
  {
   "cell_type": "code",
   "execution_count": 54,
   "metadata": {},
   "outputs": [],
   "source": [
    "Stage4_Fact=Stage3_Fact.join(DIM_CARD_TYPE,(Stage3_Fact[\"card_type\"]==DIM_CARD_TYPE['CARD_TYPE']),\"leftouter\")"
   ]
  },
  {
   "cell_type": "code",
   "execution_count": 55,
   "metadata": {},
   "outputs": [
    {
     "data": {
      "text/plain": [
       "2468571"
      ]
     },
     "execution_count": 55,
     "metadata": {},
     "output_type": "execute_result"
    }
   ],
   "source": [
    "#checkin count\n",
    "Stage4_Fact.count()"
   ]
  },
  {
   "cell_type": "code",
   "execution_count": 56,
   "metadata": {},
   "outputs": [
    {
     "name": "stdout",
     "output_type": "stream",
     "text": [
      "root\n",
      " |-- year: integer (nullable = true)\n",
      " |-- month: string (nullable = true)\n",
      " |-- day: integer (nullable = true)\n",
      " |-- weekday: string (nullable = true)\n",
      " |-- hour: integer (nullable = true)\n",
      " |-- atm_status: string (nullable = true)\n",
      " |-- atm_num: string (nullable = true)\n",
      " |-- atm_manufacturer: string (nullable = true)\n",
      " |-- atm_location: string (nullable = true)\n",
      " |-- atm_street_name: string (nullable = true)\n",
      " |-- atm_street_number: integer (nullable = true)\n",
      " |-- atm_zipcode: integer (nullable = true)\n",
      " |-- atm_lat: double (nullable = true)\n",
      " |-- atm_lon: double (nullable = true)\n",
      " |-- currency: string (nullable = true)\n",
      " |-- card_type: string (nullable = true)\n",
      " |-- transaction_amount: integer (nullable = true)\n",
      " |-- service: string (nullable = true)\n",
      " |-- message_code: string (nullable = true)\n",
      " |-- message_text: string (nullable = true)\n",
      " |-- weather_lat: double (nullable = true)\n",
      " |-- weather_lon: double (nullable = true)\n",
      " |-- weather_city_id: integer (nullable = true)\n",
      " |-- weather_city_name: string (nullable = true)\n",
      " |-- temp: double (nullable = true)\n",
      " |-- pressure: integer (nullable = true)\n",
      " |-- humidity: integer (nullable = true)\n",
      " |-- wind_speed: integer (nullable = true)\n",
      " |-- wind_deg: integer (nullable = true)\n",
      " |-- rain_3h: double (nullable = true)\n",
      " |-- clouds_all: integer (nullable = true)\n",
      " |-- weather_id: integer (nullable = true)\n",
      " |-- weather_main: string (nullable = true)\n",
      " |-- weather_description: string (nullable = true)\n",
      " |-- month_num: string (nullable = true)\n",
      " |-- full_date_time: date (nullable = true)\n",
      " |-- LOCATION_ID: integer (nullable = true)\n",
      " |-- LOCATION: string (nullable = true)\n",
      " |-- STREET_NAME: string (nullable = true)\n",
      " |-- STREET_NUMBER: integer (nullable = true)\n",
      " |-- ZIPCODE: integer (nullable = true)\n",
      " |-- LAT: double (nullable = true)\n",
      " |-- LON: double (nullable = true)\n",
      " |-- ATM_ID: integer (nullable = true)\n",
      " |-- ATM_NUMBER: string (nullable = true)\n",
      " |-- ATM_MANUFACTURER: string (nullable = true)\n",
      " |-- ATM_LOCATION_ID: integer (nullable = true)\n",
      " |-- DATE_ID: integer (nullable = true)\n",
      " |-- FULL_DATE_TIME: date (nullable = true)\n",
      " |-- YEAR: integer (nullable = true)\n",
      " |-- MONTH: string (nullable = true)\n",
      " |-- DAY: integer (nullable = true)\n",
      " |-- HOUR: integer (nullable = true)\n",
      " |-- WEEKDAY: string (nullable = true)\n",
      " |-- CARD_TYPE_ID: integer (nullable = true)\n",
      " |-- CARD_TYPE: string (nullable = true)\n",
      "\n"
     ]
    }
   ],
   "source": [
    "#Printing schema\n",
    "Stage4_Fact.printSchema()"
   ]
  },
  {
   "cell_type": "markdown",
   "metadata": {},
   "source": [
    "##### Adding Trans_ID to stage fact table "
   ]
  },
  {
   "cell_type": "code",
   "execution_count": 57,
   "metadata": {},
   "outputs": [],
   "source": [
    "#Writing window function to add Trans_Id\n",
    "window1_spec = Window.partitionBy().orderBy([\"DATE_ID\",\"LOCATION_ID\",\"CARD_TYPE_ID\"])\n",
    "Stage_Intermediate=Stage4_Fact.withColumn(\"TRANS_ID\",row_number().over(window1_spec))\n",
    "#Stage_Intermediate.show(5)\n"
   ]
  },
  {
   "cell_type": "code",
   "execution_count": 58,
   "metadata": {},
   "outputs": [],
   "source": [
    "#Stage_Intermediate.count()"
   ]
  },
  {
   "cell_type": "markdown",
   "metadata": {},
   "source": [
    "##### Selecting only required columns to create final fact table"
   ]
  },
  {
   "cell_type": "code",
   "execution_count": 59,
   "metadata": {},
   "outputs": [],
   "source": [
    "#Selecting columns\n",
    "Stage_Intermediate_copy=Stage_Intermediate.select('TRANS_ID','ATM_ID','LOCATION_ID','DATE_ID','CARD_TYPE_ID','atm_status','currency','service','transaction_amount','message_code','message_text','rain_3h','clouds_all','weather_id','weather_main','weather_description')"
   ]
  },
  {
   "cell_type": "code",
   "execution_count": 60,
   "metadata": {
    "scrolled": true
   },
   "outputs": [
    {
     "name": "stdout",
     "output_type": "stream",
     "text": [
      "root\n",
      " |-- TRANS_ID: integer (nullable = true)\n",
      " |-- ATM_ID: integer (nullable = true)\n",
      " |-- LOCATION_ID: integer (nullable = true)\n",
      " |-- DATE_ID: integer (nullable = true)\n",
      " |-- CARD_TYPE_ID: integer (nullable = true)\n",
      " |-- atm_status: string (nullable = true)\n",
      " |-- currency: string (nullable = true)\n",
      " |-- service: string (nullable = true)\n",
      " |-- transaction_amount: integer (nullable = true)\n",
      " |-- message_code: string (nullable = true)\n",
      " |-- message_text: string (nullable = true)\n",
      " |-- rain_3h: double (nullable = true)\n",
      " |-- clouds_all: integer (nullable = true)\n",
      " |-- weather_id: integer (nullable = true)\n",
      " |-- weather_main: string (nullable = true)\n",
      " |-- weather_description: string (nullable = true)\n",
      "\n"
     ]
    }
   ],
   "source": [
    "#Checking schema\n",
    "Stage_Intermediate_copy.printSchema()"
   ]
  },
  {
   "cell_type": "code",
   "execution_count": 61,
   "metadata": {},
   "outputs": [
    {
     "name": "stdout",
     "output_type": "stream",
     "text": [
      "+--------+\n",
      "|TRANS_ID|\n",
      "+--------+\n",
      "|       1|\n",
      "|       2|\n",
      "|       3|\n",
      "|       4|\n",
      "|       5|\n",
      "|       6|\n",
      "|       7|\n",
      "+--------+\n",
      "only showing top 7 rows\n",
      "\n"
     ]
    }
   ],
   "source": [
    "#Checking whether trans_id is assigned\n",
    "Stage_Intermediate_copy.select('TRANS_ID').show(7)"
   ]
  },
  {
   "cell_type": "code",
   "execution_count": 62,
   "metadata": {},
   "outputs": [],
   "source": [
    "#Renaming columns.\n",
    "FACT_ATM_TRANS=Stage_Intermediate_copy.withColumnRenamed(\"LOCATION_ID\",\"WEATHER_LOC_ID\") \\\n",
    ".withColumnRenamed(\"atm_status\",\"ATM_STATUS\") \\\n",
    ".withColumnRenamed(\"message_code\",\"MESSAGE_CODE\") \\\n",
    ".withColumnRenamed(\"currency\",\"CURRENCY\") \\\n",
    ".withColumnRenamed(\"service\",\"SERVICE\") \\\n",
    ".withColumnRenamed(\"transaction_amount\",\"TRANSACTION_AMOUNT\") \\\n",
    ".withColumnRenamed(\"message_code\",\"MESSAGE_CODE\") \\\n",
    ".withColumnRenamed(\"message_text\",\"MESSAGE_TEXT\") \\\n",
    ".withColumnRenamed(\"rain_3h\",\"RAIN_3H\") \\\n",
    ".withColumnRenamed(\"clouds_all\",\"CLOUDS_ALL\") \\\n",
    ".withColumnRenamed(\"weather_id\",\"WEATHER_ID\") \\\n",
    ".withColumnRenamed(\"weather_main\",\"WEATHER_MAIN\") \\\n",
    ".withColumnRenamed(\"weather_description\",\"WEATHER_DESCRIPTION\") "
   ]
  },
  {
   "cell_type": "code",
   "execution_count": 63,
   "metadata": {},
   "outputs": [
    {
     "name": "stdout",
     "output_type": "stream",
     "text": [
      "root\n",
      " |-- TRANS_ID: integer (nullable = true)\n",
      " |-- ATM_ID: integer (nullable = true)\n",
      " |-- WEATHER_LOC_ID: integer (nullable = true)\n",
      " |-- DATE_ID: integer (nullable = true)\n",
      " |-- CARD_TYPE_ID: integer (nullable = true)\n",
      " |-- ATM_STATUS: string (nullable = true)\n",
      " |-- CURRENCY: string (nullable = true)\n",
      " |-- SERVICE: string (nullable = true)\n",
      " |-- TRANSACTION_AMOUNT: integer (nullable = true)\n",
      " |-- MESSAGE_CODE: string (nullable = true)\n",
      " |-- MESSAGE_TEXT: string (nullable = true)\n",
      " |-- RAIN_3H: double (nullable = true)\n",
      " |-- CLOUDS_ALL: integer (nullable = true)\n",
      " |-- WEATHER_ID: integer (nullable = true)\n",
      " |-- WEATHER_MAIN: string (nullable = true)\n",
      " |-- WEATHER_DESCRIPTION: string (nullable = true)\n",
      "\n"
     ]
    }
   ],
   "source": [
    "#Checking schema\n",
    "FACT_ATM_TRANS.printSchema()"
   ]
  },
  {
   "cell_type": "code",
   "execution_count": 82,
   "metadata": {},
   "outputs": [
    {
     "name": "stdout",
     "output_type": "stream",
     "text": [
      "+--------+------+--------------+-------+------------+----------+--------+----------+------------------+------------+------------+-------+----------+----------+------------+-------------------+\n",
      "|TRANS_ID|ATM_ID|WEATHER_LOC_ID|DATE_ID|CARD_TYPE_ID|ATM_STATUS|CURRENCY|   SERVICE|TRANSACTION_AMOUNT|MESSAGE_CODE|MESSAGE_TEXT|RAIN_3H|CLOUDS_ALL|WEATHER_ID|WEATHER_MAIN|WEATHER_DESCRIPTION|\n",
      "+--------+------+--------------+-------+------------+----------+--------+----------+------------------+------------+------------+-------+----------+----------+------------+-------------------+\n",
      "|       1|  5084|          1008|   1001|        3001|  Inactive|     DKK|Withdrawal|              8543|        null|        null|    0.0|         8|       800|       Clear|       sky is clear|\n",
      "|       2|  5084|          1008|   1001|        3011|  Inactive|     DKK|Withdrawal|              1443|        null|        null|    0.0|         8|       800|       Clear|       sky is clear|\n",
      "|       3|  5111|          1020|   1001|        3010|    Active|     DKK|Withdrawal|              4885|        null|        null|   0.13|        56|       500|        Rain|         light rain|\n",
      "|       4|  5104|          1021|   1001|        3007|    Active|     DKK|Withdrawal|              3034|        null|        null|    0.0|         0|       701|        Mist|               mist|\n",
      "|       5|  5104|          1021|   1001|        3007|    Active|     DKK|Withdrawal|              6501|        null|        null|    0.0|         0|       701|        Mist|               mist|\n",
      "+--------+------+--------------+-------+------------+----------+--------+----------+------------------+------------+------------+-------+----------+----------+------------+-------------------+\n",
      "only showing top 5 rows\n",
      "\n"
     ]
    }
   ],
   "source": [
    "#Showing fact_atm_trans table\n",
    "FACT_ATM_TRANS.show(5)"
   ]
  },
  {
   "cell_type": "code",
   "execution_count": 83,
   "metadata": {},
   "outputs": [
    {
     "data": {
      "text/plain": [
       "2468571"
      ]
     },
     "execution_count": 83,
     "metadata": {},
     "output_type": "execute_result"
    }
   ],
   "source": [
    "#Checking count of the columns\n",
    "FACT_ATM_TRANS.count()"
   ]
  },
  {
   "cell_type": "markdown",
   "metadata": {},
   "source": [
    "##### Writing data from Dimension_ATM to s3"
   ]
  },
  {
   "cell_type": "code",
   "execution_count": 85,
   "metadata": {},
   "outputs": [],
   "source": [
    "DIM_ATM.write.csv(\"s3a://swathimss3bucket/ETL_Project/ATM_DIMENSION/ATM_DIMENSION.csv\",mode=\"overwrite\",header=True)"
   ]
  },
  {
   "cell_type": "markdown",
   "metadata": {},
   "source": [
    "##### Writing data from Dimension_CARD_TYPE to s3"
   ]
  },
  {
   "cell_type": "code",
   "execution_count": 86,
   "metadata": {},
   "outputs": [],
   "source": [
    "DIM_CARD_TYPE.write.csv(\"s3a://swathimss3bucket/ETL_Project/CARD_TYPE_DIMENSION/CARD_TYPE_DIMENSION.csv\",mode=\"overwrite\",header=True)"
   ]
  },
  {
   "cell_type": "markdown",
   "metadata": {},
   "source": [
    "##### Writing data from Dimension_DATE to s3"
   ]
  },
  {
   "cell_type": "code",
   "execution_count": 87,
   "metadata": {},
   "outputs": [],
   "source": [
    "DIM_DATE.write.csv(\"s3a://swathimss3bucket/ETL_Project/DATETIME_DIMENSION/DATETIME_DIMENSION\",mode=\"overwrite\",header=True)\n"
   ]
  },
  {
   "cell_type": "markdown",
   "metadata": {},
   "source": [
    "##### Writing data from Dimension_Location to s3"
   ]
  },
  {
   "cell_type": "code",
   "execution_count": 88,
   "metadata": {},
   "outputs": [],
   "source": [
    "DIM_LOCATION.write.csv(\"s3a://swathimss3bucket/ETL_Project/LOCATION_DIMENSION/LOCATION_DIMENSION.csv\",mode=\"overwrite\",header=True)\n"
   ]
  },
  {
   "cell_type": "markdown",
   "metadata": {},
   "source": [
    "##### Writing data from FACT_ATM_TRANS to s3"
   ]
  },
  {
   "cell_type": "code",
   "execution_count": 89,
   "metadata": {},
   "outputs": [],
   "source": [
    "\n",
    "FACT_ATM_TRANS.write.options(quotes=',').csv(\"s3a://swathimss3bucket/ETL_Project/FACT_ATM_TRANS/FACT_ATM_TRANS\",mode=\"overwrite\",header=True)"
   ]
  },
  {
   "cell_type": "code",
   "execution_count": 90,
   "metadata": {},
   "outputs": [],
   "source": [
    "#FACT_ATM_TRANS.write.csv(\"s3a://swathimss3bucket/ETL_Project/TRANSACTION_FACT/TRANSACTION_FACT.csv\",mode=\"overwrite\",header=True)"
   ]
  },
  {
   "cell_type": "code",
   "execution_count": null,
   "metadata": {},
   "outputs": [],
   "source": []
  }
 ],
 "metadata": {
  "kernelspec": {
   "display_name": "Python 3",
   "language": "python",
   "name": "python3"
  },
  "language_info": {
   "codemirror_mode": {
    "name": "ipython",
    "version": 3
   },
   "file_extension": ".py",
   "mimetype": "text/x-python",
   "name": "python",
   "nbconvert_exporter": "python",
   "pygments_lexer": "ipython3",
   "version": "3.7.6"
  }
 },
 "nbformat": 4,
 "nbformat_minor": 2
}
